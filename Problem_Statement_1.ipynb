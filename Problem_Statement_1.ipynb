{
  "nbformat": 4,
  "nbformat_minor": 0,
  "metadata": {
    "colab": {
      "provenance": [],
      "authorship_tag": "ABX9TyNVbOnmCfz8eFvvczl0+j+0",
      "include_colab_link": true
    },
    "kernelspec": {
      "name": "python3",
      "display_name": "Python 3"
    },
    "language_info": {
      "name": "python"
    }
  },
  "cells": [
    {
      "cell_type": "markdown",
      "metadata": {
        "id": "view-in-github",
        "colab_type": "text"
      },
      "source": [
        "<a href=\"https://colab.research.google.com/github/Romasha-Guin/Edulyt-India/blob/main/Problem_Statement_1.ipynb\" target=\"_parent\"><img src=\"https://colab.research.google.com/assets/colab-badge.svg\" alt=\"Open In Colab\"/></a>"
      ]
    },
    {
      "cell_type": "markdown",
      "source": [
        "# **Problem Statement 1:**"
      ],
      "metadata": {
        "id": "fKAhAff1zWC1"
      }
    },
    {
      "cell_type": "code",
      "source": [
        "import numpy as np\n",
        "import matplotlib.pyplot as plt\n",
        "import seaborn as sns\n",
        "import pandas as pd\n",
        "%matplotlib inline"
      ],
      "metadata": {
        "id": "3TZaieHkNzB1"
      },
      "execution_count": 140,
      "outputs": []
    },
    {
      "cell_type": "markdown",
      "source": [
        "Load the dataset."
      ],
      "metadata": {
        "id": "9gllZ1bZOwVF"
      }
    },
    {
      "cell_type": "code",
      "source": [
        "df_1 = pd.read_csv('Customer.csv')\n",
        "df_2 = pd.read_csv('Repayment.csv')\n",
        "df_3 = pd.read_csv('Spend.csv')"
      ],
      "metadata": {
        "id": "SpZoaBslN1J6"
      },
      "execution_count": 141,
      "outputs": []
    },
    {
      "cell_type": "markdown",
      "source": [
        "**Sanity Checks – Data Cleaning**"
      ],
      "metadata": {
        "id": "2hDw7T6oQMjt"
      }
    },
    {
      "cell_type": "markdown",
      "source": [
        "Replacing values where age is less than 18 with NaN."
      ],
      "metadata": {
        "id": "haogoc_KV0Vc"
      }
    },
    {
      "cell_type": "code",
      "source": [
        "df_1['Age'] = df_1['Age'].mask(df_1['Age'] < 18)\n",
        "df_1.head()"
      ],
      "metadata": {
        "colab": {
          "base_uri": "https://localhost:8080/",
          "height": 206
        },
        "id": "khhhbKBERchv",
        "outputId": "ea250a98-3b99-4149-fa27-f297e0d0bc40"
      },
      "execution_count": 142,
      "outputs": [
        {
          "output_type": "execute_result",
          "data": {
            "text/plain": [
              "   Sl No: Customer      Age       City Credit Card Product            Limit  \\\n",
              "0       1       A1      NaN  BANGALORE                Gold  INR 5,00,000.00   \n",
              "1       2       A2  35.5346   CALCUTTA              Silver  INR 1,00,000.00   \n",
              "2       3       A3      NaN     COCHIN            Platimum    INR 10,000.00   \n",
              "3       4       A4  45.8203     BOMBAY            Platimum    INR 10,001.00   \n",
              "4       5       A5  69.6639  BANGALORE            Platimum    INR 10,002.00   \n",
              "\n",
              "  Company        Segment  \n",
              "0      C1  Self Employed  \n",
              "1      C2   Salaried_MNC  \n",
              "2      C3   Salaried_Pvt  \n",
              "3      C4           Govt  \n",
              "4      C5  Normal Salary  "
            ],
            "text/html": [
              "\n",
              "  <div id=\"df-6e8229e9-9ba1-4549-88b1-700685dac9cb\">\n",
              "    <div class=\"colab-df-container\">\n",
              "      <div>\n",
              "<style scoped>\n",
              "    .dataframe tbody tr th:only-of-type {\n",
              "        vertical-align: middle;\n",
              "    }\n",
              "\n",
              "    .dataframe tbody tr th {\n",
              "        vertical-align: top;\n",
              "    }\n",
              "\n",
              "    .dataframe thead th {\n",
              "        text-align: right;\n",
              "    }\n",
              "</style>\n",
              "<table border=\"1\" class=\"dataframe\">\n",
              "  <thead>\n",
              "    <tr style=\"text-align: right;\">\n",
              "      <th></th>\n",
              "      <th>Sl No:</th>\n",
              "      <th>Customer</th>\n",
              "      <th>Age</th>\n",
              "      <th>City</th>\n",
              "      <th>Credit Card Product</th>\n",
              "      <th>Limit</th>\n",
              "      <th>Company</th>\n",
              "      <th>Segment</th>\n",
              "    </tr>\n",
              "  </thead>\n",
              "  <tbody>\n",
              "    <tr>\n",
              "      <th>0</th>\n",
              "      <td>1</td>\n",
              "      <td>A1</td>\n",
              "      <td>NaN</td>\n",
              "      <td>BANGALORE</td>\n",
              "      <td>Gold</td>\n",
              "      <td>INR 5,00,000.00</td>\n",
              "      <td>C1</td>\n",
              "      <td>Self Employed</td>\n",
              "    </tr>\n",
              "    <tr>\n",
              "      <th>1</th>\n",
              "      <td>2</td>\n",
              "      <td>A2</td>\n",
              "      <td>35.5346</td>\n",
              "      <td>CALCUTTA</td>\n",
              "      <td>Silver</td>\n",
              "      <td>INR 1,00,000.00</td>\n",
              "      <td>C2</td>\n",
              "      <td>Salaried_MNC</td>\n",
              "    </tr>\n",
              "    <tr>\n",
              "      <th>2</th>\n",
              "      <td>3</td>\n",
              "      <td>A3</td>\n",
              "      <td>NaN</td>\n",
              "      <td>COCHIN</td>\n",
              "      <td>Platimum</td>\n",
              "      <td>INR 10,000.00</td>\n",
              "      <td>C3</td>\n",
              "      <td>Salaried_Pvt</td>\n",
              "    </tr>\n",
              "    <tr>\n",
              "      <th>3</th>\n",
              "      <td>4</td>\n",
              "      <td>A4</td>\n",
              "      <td>45.8203</td>\n",
              "      <td>BOMBAY</td>\n",
              "      <td>Platimum</td>\n",
              "      <td>INR 10,001.00</td>\n",
              "      <td>C4</td>\n",
              "      <td>Govt</td>\n",
              "    </tr>\n",
              "    <tr>\n",
              "      <th>4</th>\n",
              "      <td>5</td>\n",
              "      <td>A5</td>\n",
              "      <td>69.6639</td>\n",
              "      <td>BANGALORE</td>\n",
              "      <td>Platimum</td>\n",
              "      <td>INR 10,002.00</td>\n",
              "      <td>C5</td>\n",
              "      <td>Normal Salary</td>\n",
              "    </tr>\n",
              "  </tbody>\n",
              "</table>\n",
              "</div>\n",
              "      <button class=\"colab-df-convert\" onclick=\"convertToInteractive('df-6e8229e9-9ba1-4549-88b1-700685dac9cb')\"\n",
              "              title=\"Convert this dataframe to an interactive table.\"\n",
              "              style=\"display:none;\">\n",
              "        \n",
              "  <svg xmlns=\"http://www.w3.org/2000/svg\" height=\"24px\"viewBox=\"0 0 24 24\"\n",
              "       width=\"24px\">\n",
              "    <path d=\"M0 0h24v24H0V0z\" fill=\"none\"/>\n",
              "    <path d=\"M18.56 5.44l.94 2.06.94-2.06 2.06-.94-2.06-.94-.94-2.06-.94 2.06-2.06.94zm-11 1L8.5 8.5l.94-2.06 2.06-.94-2.06-.94L8.5 2.5l-.94 2.06-2.06.94zm10 10l.94 2.06.94-2.06 2.06-.94-2.06-.94-.94-2.06-.94 2.06-2.06.94z\"/><path d=\"M17.41 7.96l-1.37-1.37c-.4-.4-.92-.59-1.43-.59-.52 0-1.04.2-1.43.59L10.3 9.45l-7.72 7.72c-.78.78-.78 2.05 0 2.83L4 21.41c.39.39.9.59 1.41.59.51 0 1.02-.2 1.41-.59l7.78-7.78 2.81-2.81c.8-.78.8-2.07 0-2.86zM5.41 20L4 18.59l7.72-7.72 1.47 1.35L5.41 20z\"/>\n",
              "  </svg>\n",
              "      </button>\n",
              "      \n",
              "  <style>\n",
              "    .colab-df-container {\n",
              "      display:flex;\n",
              "      flex-wrap:wrap;\n",
              "      gap: 12px;\n",
              "    }\n",
              "\n",
              "    .colab-df-convert {\n",
              "      background-color: #E8F0FE;\n",
              "      border: none;\n",
              "      border-radius: 50%;\n",
              "      cursor: pointer;\n",
              "      display: none;\n",
              "      fill: #1967D2;\n",
              "      height: 32px;\n",
              "      padding: 0 0 0 0;\n",
              "      width: 32px;\n",
              "    }\n",
              "\n",
              "    .colab-df-convert:hover {\n",
              "      background-color: #E2EBFA;\n",
              "      box-shadow: 0px 1px 2px rgba(60, 64, 67, 0.3), 0px 1px 3px 1px rgba(60, 64, 67, 0.15);\n",
              "      fill: #174EA6;\n",
              "    }\n",
              "\n",
              "    [theme=dark] .colab-df-convert {\n",
              "      background-color: #3B4455;\n",
              "      fill: #D2E3FC;\n",
              "    }\n",
              "\n",
              "    [theme=dark] .colab-df-convert:hover {\n",
              "      background-color: #434B5C;\n",
              "      box-shadow: 0px 1px 3px 1px rgba(0, 0, 0, 0.15);\n",
              "      filter: drop-shadow(0px 1px 2px rgba(0, 0, 0, 0.3));\n",
              "      fill: #FFFFFF;\n",
              "    }\n",
              "  </style>\n",
              "\n",
              "      <script>\n",
              "        const buttonEl =\n",
              "          document.querySelector('#df-6e8229e9-9ba1-4549-88b1-700685dac9cb button.colab-df-convert');\n",
              "        buttonEl.style.display =\n",
              "          google.colab.kernel.accessAllowed ? 'block' : 'none';\n",
              "\n",
              "        async function convertToInteractive(key) {\n",
              "          const element = document.querySelector('#df-6e8229e9-9ba1-4549-88b1-700685dac9cb');\n",
              "          const dataTable =\n",
              "            await google.colab.kernel.invokeFunction('convertToInteractive',\n",
              "                                                     [key], {});\n",
              "          if (!dataTable) return;\n",
              "\n",
              "          const docLinkHtml = 'Like what you see? Visit the ' +\n",
              "            '<a target=\"_blank\" href=https://colab.research.google.com/notebooks/data_table.ipynb>data table notebook</a>'\n",
              "            + ' to learn more about interactive tables.';\n",
              "          element.innerHTML = '';\n",
              "          dataTable['output_type'] = 'display_data';\n",
              "          await google.colab.output.renderOutput(dataTable, element);\n",
              "          const docLink = document.createElement('div');\n",
              "          docLink.innerHTML = docLinkHtml;\n",
              "          element.appendChild(docLink);\n",
              "        }\n",
              "      </script>\n",
              "    </div>\n",
              "  </div>\n",
              "  "
            ]
          },
          "metadata": {},
          "execution_count": 142
        }
      ]
    },
    {
      "cell_type": "code",
      "source": [
        "df_2.rename(columns={'Amount': 'Amount_x'}, inplace=True)\n",
        "df_3.rename(columns={'Amount': 'Amount_y'}, inplace=True)"
      ],
      "metadata": {
        "id": "XH0ZTaNDTYhQ"
      },
      "execution_count": 143,
      "outputs": []
    },
    {
      "cell_type": "code",
      "source": [
        "df_2.head()"
      ],
      "metadata": {
        "colab": {
          "base_uri": "https://localhost:8080/",
          "height": 206
        },
        "id": "OirQYl91TpXa",
        "outputId": "903bee1f-426f-4125-fd26-89d727807e61"
      },
      "execution_count": 144,
      "outputs": [
        {
          "output_type": "execute_result",
          "data": {
            "text/plain": [
              "   SL No: Customer      Month       Amount_x\n",
              "0       1       A1  12-Jan-04  331844.007400\n",
              "1       2       A1  03-Jan-04  441139.807300\n",
              "2       3       A1  15-Jan-04   32480.004010\n",
              "3       4       A1  25-Jan-04   90636.966530\n",
              "4       5       A1  17-Jan-05    1581.969829"
            ],
            "text/html": [
              "\n",
              "  <div id=\"df-a40f72f1-54bb-4d72-b445-72242bb01220\">\n",
              "    <div class=\"colab-df-container\">\n",
              "      <div>\n",
              "<style scoped>\n",
              "    .dataframe tbody tr th:only-of-type {\n",
              "        vertical-align: middle;\n",
              "    }\n",
              "\n",
              "    .dataframe tbody tr th {\n",
              "        vertical-align: top;\n",
              "    }\n",
              "\n",
              "    .dataframe thead th {\n",
              "        text-align: right;\n",
              "    }\n",
              "</style>\n",
              "<table border=\"1\" class=\"dataframe\">\n",
              "  <thead>\n",
              "    <tr style=\"text-align: right;\">\n",
              "      <th></th>\n",
              "      <th>SL No:</th>\n",
              "      <th>Customer</th>\n",
              "      <th>Month</th>\n",
              "      <th>Amount_x</th>\n",
              "    </tr>\n",
              "  </thead>\n",
              "  <tbody>\n",
              "    <tr>\n",
              "      <th>0</th>\n",
              "      <td>1</td>\n",
              "      <td>A1</td>\n",
              "      <td>12-Jan-04</td>\n",
              "      <td>331844.007400</td>\n",
              "    </tr>\n",
              "    <tr>\n",
              "      <th>1</th>\n",
              "      <td>2</td>\n",
              "      <td>A1</td>\n",
              "      <td>03-Jan-04</td>\n",
              "      <td>441139.807300</td>\n",
              "    </tr>\n",
              "    <tr>\n",
              "      <th>2</th>\n",
              "      <td>3</td>\n",
              "      <td>A1</td>\n",
              "      <td>15-Jan-04</td>\n",
              "      <td>32480.004010</td>\n",
              "    </tr>\n",
              "    <tr>\n",
              "      <th>3</th>\n",
              "      <td>4</td>\n",
              "      <td>A1</td>\n",
              "      <td>25-Jan-04</td>\n",
              "      <td>90636.966530</td>\n",
              "    </tr>\n",
              "    <tr>\n",
              "      <th>4</th>\n",
              "      <td>5</td>\n",
              "      <td>A1</td>\n",
              "      <td>17-Jan-05</td>\n",
              "      <td>1581.969829</td>\n",
              "    </tr>\n",
              "  </tbody>\n",
              "</table>\n",
              "</div>\n",
              "      <button class=\"colab-df-convert\" onclick=\"convertToInteractive('df-a40f72f1-54bb-4d72-b445-72242bb01220')\"\n",
              "              title=\"Convert this dataframe to an interactive table.\"\n",
              "              style=\"display:none;\">\n",
              "        \n",
              "  <svg xmlns=\"http://www.w3.org/2000/svg\" height=\"24px\"viewBox=\"0 0 24 24\"\n",
              "       width=\"24px\">\n",
              "    <path d=\"M0 0h24v24H0V0z\" fill=\"none\"/>\n",
              "    <path d=\"M18.56 5.44l.94 2.06.94-2.06 2.06-.94-2.06-.94-.94-2.06-.94 2.06-2.06.94zm-11 1L8.5 8.5l.94-2.06 2.06-.94-2.06-.94L8.5 2.5l-.94 2.06-2.06.94zm10 10l.94 2.06.94-2.06 2.06-.94-2.06-.94-.94-2.06-.94 2.06-2.06.94z\"/><path d=\"M17.41 7.96l-1.37-1.37c-.4-.4-.92-.59-1.43-.59-.52 0-1.04.2-1.43.59L10.3 9.45l-7.72 7.72c-.78.78-.78 2.05 0 2.83L4 21.41c.39.39.9.59 1.41.59.51 0 1.02-.2 1.41-.59l7.78-7.78 2.81-2.81c.8-.78.8-2.07 0-2.86zM5.41 20L4 18.59l7.72-7.72 1.47 1.35L5.41 20z\"/>\n",
              "  </svg>\n",
              "      </button>\n",
              "      \n",
              "  <style>\n",
              "    .colab-df-container {\n",
              "      display:flex;\n",
              "      flex-wrap:wrap;\n",
              "      gap: 12px;\n",
              "    }\n",
              "\n",
              "    .colab-df-convert {\n",
              "      background-color: #E8F0FE;\n",
              "      border: none;\n",
              "      border-radius: 50%;\n",
              "      cursor: pointer;\n",
              "      display: none;\n",
              "      fill: #1967D2;\n",
              "      height: 32px;\n",
              "      padding: 0 0 0 0;\n",
              "      width: 32px;\n",
              "    }\n",
              "\n",
              "    .colab-df-convert:hover {\n",
              "      background-color: #E2EBFA;\n",
              "      box-shadow: 0px 1px 2px rgba(60, 64, 67, 0.3), 0px 1px 3px 1px rgba(60, 64, 67, 0.15);\n",
              "      fill: #174EA6;\n",
              "    }\n",
              "\n",
              "    [theme=dark] .colab-df-convert {\n",
              "      background-color: #3B4455;\n",
              "      fill: #D2E3FC;\n",
              "    }\n",
              "\n",
              "    [theme=dark] .colab-df-convert:hover {\n",
              "      background-color: #434B5C;\n",
              "      box-shadow: 0px 1px 3px 1px rgba(0, 0, 0, 0.15);\n",
              "      filter: drop-shadow(0px 1px 2px rgba(0, 0, 0, 0.3));\n",
              "      fill: #FFFFFF;\n",
              "    }\n",
              "  </style>\n",
              "\n",
              "      <script>\n",
              "        const buttonEl =\n",
              "          document.querySelector('#df-a40f72f1-54bb-4d72-b445-72242bb01220 button.colab-df-convert');\n",
              "        buttonEl.style.display =\n",
              "          google.colab.kernel.accessAllowed ? 'block' : 'none';\n",
              "\n",
              "        async function convertToInteractive(key) {\n",
              "          const element = document.querySelector('#df-a40f72f1-54bb-4d72-b445-72242bb01220');\n",
              "          const dataTable =\n",
              "            await google.colab.kernel.invokeFunction('convertToInteractive',\n",
              "                                                     [key], {});\n",
              "          if (!dataTable) return;\n",
              "\n",
              "          const docLinkHtml = 'Like what you see? Visit the ' +\n",
              "            '<a target=\"_blank\" href=https://colab.research.google.com/notebooks/data_table.ipynb>data table notebook</a>'\n",
              "            + ' to learn more about interactive tables.';\n",
              "          element.innerHTML = '';\n",
              "          dataTable['output_type'] = 'display_data';\n",
              "          await google.colab.output.renderOutput(dataTable, element);\n",
              "          const docLink = document.createElement('div');\n",
              "          docLink.innerHTML = docLinkHtml;\n",
              "          element.appendChild(docLink);\n",
              "        }\n",
              "      </script>\n",
              "    </div>\n",
              "  </div>\n",
              "  "
            ]
          },
          "metadata": {},
          "execution_count": 144
        }
      ]
    },
    {
      "cell_type": "code",
      "source": [
        "df_3.head()"
      ],
      "metadata": {
        "colab": {
          "base_uri": "https://localhost:8080/",
          "height": 206
        },
        "id": "xFBxYhz7Tuzb",
        "outputId": "3d99d4d8-5d1e-429f-a17c-eb196e91a920"
      },
      "execution_count": 145,
      "outputs": [
        {
          "output_type": "execute_result",
          "data": {
            "text/plain": [
              "   Sl No: Customer      Month       Type  Amount_y\n",
              "0       1       A1  12-Jan-04  JEWELLERY    473776\n",
              "1       2       A1  03-Jan-04      PETRO    335579\n",
              "2       3       A1  15-Jan-04    CLOTHES    371041\n",
              "3       4       A1  25-Jan-04       FOOD    141178\n",
              "4       5       A1  17-Jan-05     CAMERA    398404"
            ],
            "text/html": [
              "\n",
              "  <div id=\"df-d78d4e08-89b0-42d9-8a02-d1f2bd67ffa1\">\n",
              "    <div class=\"colab-df-container\">\n",
              "      <div>\n",
              "<style scoped>\n",
              "    .dataframe tbody tr th:only-of-type {\n",
              "        vertical-align: middle;\n",
              "    }\n",
              "\n",
              "    .dataframe tbody tr th {\n",
              "        vertical-align: top;\n",
              "    }\n",
              "\n",
              "    .dataframe thead th {\n",
              "        text-align: right;\n",
              "    }\n",
              "</style>\n",
              "<table border=\"1\" class=\"dataframe\">\n",
              "  <thead>\n",
              "    <tr style=\"text-align: right;\">\n",
              "      <th></th>\n",
              "      <th>Sl No:</th>\n",
              "      <th>Customer</th>\n",
              "      <th>Month</th>\n",
              "      <th>Type</th>\n",
              "      <th>Amount_y</th>\n",
              "    </tr>\n",
              "  </thead>\n",
              "  <tbody>\n",
              "    <tr>\n",
              "      <th>0</th>\n",
              "      <td>1</td>\n",
              "      <td>A1</td>\n",
              "      <td>12-Jan-04</td>\n",
              "      <td>JEWELLERY</td>\n",
              "      <td>473776</td>\n",
              "    </tr>\n",
              "    <tr>\n",
              "      <th>1</th>\n",
              "      <td>2</td>\n",
              "      <td>A1</td>\n",
              "      <td>03-Jan-04</td>\n",
              "      <td>PETRO</td>\n",
              "      <td>335579</td>\n",
              "    </tr>\n",
              "    <tr>\n",
              "      <th>2</th>\n",
              "      <td>3</td>\n",
              "      <td>A1</td>\n",
              "      <td>15-Jan-04</td>\n",
              "      <td>CLOTHES</td>\n",
              "      <td>371041</td>\n",
              "    </tr>\n",
              "    <tr>\n",
              "      <th>3</th>\n",
              "      <td>4</td>\n",
              "      <td>A1</td>\n",
              "      <td>25-Jan-04</td>\n",
              "      <td>FOOD</td>\n",
              "      <td>141178</td>\n",
              "    </tr>\n",
              "    <tr>\n",
              "      <th>4</th>\n",
              "      <td>5</td>\n",
              "      <td>A1</td>\n",
              "      <td>17-Jan-05</td>\n",
              "      <td>CAMERA</td>\n",
              "      <td>398404</td>\n",
              "    </tr>\n",
              "  </tbody>\n",
              "</table>\n",
              "</div>\n",
              "      <button class=\"colab-df-convert\" onclick=\"convertToInteractive('df-d78d4e08-89b0-42d9-8a02-d1f2bd67ffa1')\"\n",
              "              title=\"Convert this dataframe to an interactive table.\"\n",
              "              style=\"display:none;\">\n",
              "        \n",
              "  <svg xmlns=\"http://www.w3.org/2000/svg\" height=\"24px\"viewBox=\"0 0 24 24\"\n",
              "       width=\"24px\">\n",
              "    <path d=\"M0 0h24v24H0V0z\" fill=\"none\"/>\n",
              "    <path d=\"M18.56 5.44l.94 2.06.94-2.06 2.06-.94-2.06-.94-.94-2.06-.94 2.06-2.06.94zm-11 1L8.5 8.5l.94-2.06 2.06-.94-2.06-.94L8.5 2.5l-.94 2.06-2.06.94zm10 10l.94 2.06.94-2.06 2.06-.94-2.06-.94-.94-2.06-.94 2.06-2.06.94z\"/><path d=\"M17.41 7.96l-1.37-1.37c-.4-.4-.92-.59-1.43-.59-.52 0-1.04.2-1.43.59L10.3 9.45l-7.72 7.72c-.78.78-.78 2.05 0 2.83L4 21.41c.39.39.9.59 1.41.59.51 0 1.02-.2 1.41-.59l7.78-7.78 2.81-2.81c.8-.78.8-2.07 0-2.86zM5.41 20L4 18.59l7.72-7.72 1.47 1.35L5.41 20z\"/>\n",
              "  </svg>\n",
              "      </button>\n",
              "      \n",
              "  <style>\n",
              "    .colab-df-container {\n",
              "      display:flex;\n",
              "      flex-wrap:wrap;\n",
              "      gap: 12px;\n",
              "    }\n",
              "\n",
              "    .colab-df-convert {\n",
              "      background-color: #E8F0FE;\n",
              "      border: none;\n",
              "      border-radius: 50%;\n",
              "      cursor: pointer;\n",
              "      display: none;\n",
              "      fill: #1967D2;\n",
              "      height: 32px;\n",
              "      padding: 0 0 0 0;\n",
              "      width: 32px;\n",
              "    }\n",
              "\n",
              "    .colab-df-convert:hover {\n",
              "      background-color: #E2EBFA;\n",
              "      box-shadow: 0px 1px 2px rgba(60, 64, 67, 0.3), 0px 1px 3px 1px rgba(60, 64, 67, 0.15);\n",
              "      fill: #174EA6;\n",
              "    }\n",
              "\n",
              "    [theme=dark] .colab-df-convert {\n",
              "      background-color: #3B4455;\n",
              "      fill: #D2E3FC;\n",
              "    }\n",
              "\n",
              "    [theme=dark] .colab-df-convert:hover {\n",
              "      background-color: #434B5C;\n",
              "      box-shadow: 0px 1px 3px 1px rgba(0, 0, 0, 0.15);\n",
              "      filter: drop-shadow(0px 1px 2px rgba(0, 0, 0, 0.3));\n",
              "      fill: #FFFFFF;\n",
              "    }\n",
              "  </style>\n",
              "\n",
              "      <script>\n",
              "        const buttonEl =\n",
              "          document.querySelector('#df-d78d4e08-89b0-42d9-8a02-d1f2bd67ffa1 button.colab-df-convert');\n",
              "        buttonEl.style.display =\n",
              "          google.colab.kernel.accessAllowed ? 'block' : 'none';\n",
              "\n",
              "        async function convertToInteractive(key) {\n",
              "          const element = document.querySelector('#df-d78d4e08-89b0-42d9-8a02-d1f2bd67ffa1');\n",
              "          const dataTable =\n",
              "            await google.colab.kernel.invokeFunction('convertToInteractive',\n",
              "                                                     [key], {});\n",
              "          if (!dataTable) return;\n",
              "\n",
              "          const docLinkHtml = 'Like what you see? Visit the ' +\n",
              "            '<a target=\"_blank\" href=https://colab.research.google.com/notebooks/data_table.ipynb>data table notebook</a>'\n",
              "            + ' to learn more about interactive tables.';\n",
              "          element.innerHTML = '';\n",
              "          dataTable['output_type'] = 'display_data';\n",
              "          await google.colab.output.renderOutput(dataTable, element);\n",
              "          const docLink = document.createElement('div');\n",
              "          docLink.innerHTML = docLinkHtml;\n",
              "          element.appendChild(docLink);\n",
              "        }\n",
              "      </script>\n",
              "    </div>\n",
              "  </div>\n",
              "  "
            ]
          },
          "metadata": {},
          "execution_count": 145
        }
      ]
    },
    {
      "cell_type": "markdown",
      "source": [
        "To give a credit of 2% of the surplus amount in the next month billing for customers who have repayment greater than spends:"
      ],
      "metadata": {
        "id": "PbUZQEUNVsrD"
      }
    },
    {
      "cell_type": "code",
      "source": [
        "merged_df = pd.merge(df_2, df_3, on=['Customer', 'Month'])\n",
        "merged_df['Surplus'] = merged_df['Amount_x'] - merged_df['Amount_y']"
      ],
      "metadata": {
        "id": "bD89iWPSTyHU"
      },
      "execution_count": 146,
      "outputs": []
    },
    {
      "cell_type": "code",
      "source": [
        "merged_df.head()"
      ],
      "metadata": {
        "colab": {
          "base_uri": "https://localhost:8080/",
          "height": 206
        },
        "id": "sPaSGicdUOHK",
        "outputId": "bda06d34-b0b7-4aed-a48c-7dafadd190e2"
      },
      "execution_count": 147,
      "outputs": [
        {
          "output_type": "execute_result",
          "data": {
            "text/plain": [
              "   SL No: Customer      Month     Amount_x  Sl No:          Type  Amount_y  \\\n",
              "0       1       A1  12-Jan-04  331844.0074       1     JEWELLERY    473776   \n",
              "1       1       A1  12-Jan-04  331844.0074     103  TRAIN TICKET     52225   \n",
              "2     103       A1  12-Jan-04  390074.7900       1     JEWELLERY    473776   \n",
              "3     103       A1  12-Jan-04  390074.7900     103  TRAIN TICKET     52225   \n",
              "4       2       A1  03-Jan-04  441139.8073       2         PETRO    335579   \n",
              "\n",
              "       Surplus  \n",
              "0 -141931.9926  \n",
              "1  279619.0074  \n",
              "2  -83701.2100  \n",
              "3  337849.7900  \n",
              "4  105560.8073  "
            ],
            "text/html": [
              "\n",
              "  <div id=\"df-93f5d7ac-05aa-46e2-9164-fb6ec2880a71\">\n",
              "    <div class=\"colab-df-container\">\n",
              "      <div>\n",
              "<style scoped>\n",
              "    .dataframe tbody tr th:only-of-type {\n",
              "        vertical-align: middle;\n",
              "    }\n",
              "\n",
              "    .dataframe tbody tr th {\n",
              "        vertical-align: top;\n",
              "    }\n",
              "\n",
              "    .dataframe thead th {\n",
              "        text-align: right;\n",
              "    }\n",
              "</style>\n",
              "<table border=\"1\" class=\"dataframe\">\n",
              "  <thead>\n",
              "    <tr style=\"text-align: right;\">\n",
              "      <th></th>\n",
              "      <th>SL No:</th>\n",
              "      <th>Customer</th>\n",
              "      <th>Month</th>\n",
              "      <th>Amount_x</th>\n",
              "      <th>Sl No:</th>\n",
              "      <th>Type</th>\n",
              "      <th>Amount_y</th>\n",
              "      <th>Surplus</th>\n",
              "    </tr>\n",
              "  </thead>\n",
              "  <tbody>\n",
              "    <tr>\n",
              "      <th>0</th>\n",
              "      <td>1</td>\n",
              "      <td>A1</td>\n",
              "      <td>12-Jan-04</td>\n",
              "      <td>331844.0074</td>\n",
              "      <td>1</td>\n",
              "      <td>JEWELLERY</td>\n",
              "      <td>473776</td>\n",
              "      <td>-141931.9926</td>\n",
              "    </tr>\n",
              "    <tr>\n",
              "      <th>1</th>\n",
              "      <td>1</td>\n",
              "      <td>A1</td>\n",
              "      <td>12-Jan-04</td>\n",
              "      <td>331844.0074</td>\n",
              "      <td>103</td>\n",
              "      <td>TRAIN TICKET</td>\n",
              "      <td>52225</td>\n",
              "      <td>279619.0074</td>\n",
              "    </tr>\n",
              "    <tr>\n",
              "      <th>2</th>\n",
              "      <td>103</td>\n",
              "      <td>A1</td>\n",
              "      <td>12-Jan-04</td>\n",
              "      <td>390074.7900</td>\n",
              "      <td>1</td>\n",
              "      <td>JEWELLERY</td>\n",
              "      <td>473776</td>\n",
              "      <td>-83701.2100</td>\n",
              "    </tr>\n",
              "    <tr>\n",
              "      <th>3</th>\n",
              "      <td>103</td>\n",
              "      <td>A1</td>\n",
              "      <td>12-Jan-04</td>\n",
              "      <td>390074.7900</td>\n",
              "      <td>103</td>\n",
              "      <td>TRAIN TICKET</td>\n",
              "      <td>52225</td>\n",
              "      <td>337849.7900</td>\n",
              "    </tr>\n",
              "    <tr>\n",
              "      <th>4</th>\n",
              "      <td>2</td>\n",
              "      <td>A1</td>\n",
              "      <td>03-Jan-04</td>\n",
              "      <td>441139.8073</td>\n",
              "      <td>2</td>\n",
              "      <td>PETRO</td>\n",
              "      <td>335579</td>\n",
              "      <td>105560.8073</td>\n",
              "    </tr>\n",
              "  </tbody>\n",
              "</table>\n",
              "</div>\n",
              "      <button class=\"colab-df-convert\" onclick=\"convertToInteractive('df-93f5d7ac-05aa-46e2-9164-fb6ec2880a71')\"\n",
              "              title=\"Convert this dataframe to an interactive table.\"\n",
              "              style=\"display:none;\">\n",
              "        \n",
              "  <svg xmlns=\"http://www.w3.org/2000/svg\" height=\"24px\"viewBox=\"0 0 24 24\"\n",
              "       width=\"24px\">\n",
              "    <path d=\"M0 0h24v24H0V0z\" fill=\"none\"/>\n",
              "    <path d=\"M18.56 5.44l.94 2.06.94-2.06 2.06-.94-2.06-.94-.94-2.06-.94 2.06-2.06.94zm-11 1L8.5 8.5l.94-2.06 2.06-.94-2.06-.94L8.5 2.5l-.94 2.06-2.06.94zm10 10l.94 2.06.94-2.06 2.06-.94-2.06-.94-.94-2.06-.94 2.06-2.06.94z\"/><path d=\"M17.41 7.96l-1.37-1.37c-.4-.4-.92-.59-1.43-.59-.52 0-1.04.2-1.43.59L10.3 9.45l-7.72 7.72c-.78.78-.78 2.05 0 2.83L4 21.41c.39.39.9.59 1.41.59.51 0 1.02-.2 1.41-.59l7.78-7.78 2.81-2.81c.8-.78.8-2.07 0-2.86zM5.41 20L4 18.59l7.72-7.72 1.47 1.35L5.41 20z\"/>\n",
              "  </svg>\n",
              "      </button>\n",
              "      \n",
              "  <style>\n",
              "    .colab-df-container {\n",
              "      display:flex;\n",
              "      flex-wrap:wrap;\n",
              "      gap: 12px;\n",
              "    }\n",
              "\n",
              "    .colab-df-convert {\n",
              "      background-color: #E8F0FE;\n",
              "      border: none;\n",
              "      border-radius: 50%;\n",
              "      cursor: pointer;\n",
              "      display: none;\n",
              "      fill: #1967D2;\n",
              "      height: 32px;\n",
              "      padding: 0 0 0 0;\n",
              "      width: 32px;\n",
              "    }\n",
              "\n",
              "    .colab-df-convert:hover {\n",
              "      background-color: #E2EBFA;\n",
              "      box-shadow: 0px 1px 2px rgba(60, 64, 67, 0.3), 0px 1px 3px 1px rgba(60, 64, 67, 0.15);\n",
              "      fill: #174EA6;\n",
              "    }\n",
              "\n",
              "    [theme=dark] .colab-df-convert {\n",
              "      background-color: #3B4455;\n",
              "      fill: #D2E3FC;\n",
              "    }\n",
              "\n",
              "    [theme=dark] .colab-df-convert:hover {\n",
              "      background-color: #434B5C;\n",
              "      box-shadow: 0px 1px 3px 1px rgba(0, 0, 0, 0.15);\n",
              "      filter: drop-shadow(0px 1px 2px rgba(0, 0, 0, 0.3));\n",
              "      fill: #FFFFFF;\n",
              "    }\n",
              "  </style>\n",
              "\n",
              "      <script>\n",
              "        const buttonEl =\n",
              "          document.querySelector('#df-93f5d7ac-05aa-46e2-9164-fb6ec2880a71 button.colab-df-convert');\n",
              "        buttonEl.style.display =\n",
              "          google.colab.kernel.accessAllowed ? 'block' : 'none';\n",
              "\n",
              "        async function convertToInteractive(key) {\n",
              "          const element = document.querySelector('#df-93f5d7ac-05aa-46e2-9164-fb6ec2880a71');\n",
              "          const dataTable =\n",
              "            await google.colab.kernel.invokeFunction('convertToInteractive',\n",
              "                                                     [key], {});\n",
              "          if (!dataTable) return;\n",
              "\n",
              "          const docLinkHtml = 'Like what you see? Visit the ' +\n",
              "            '<a target=\"_blank\" href=https://colab.research.google.com/notebooks/data_table.ipynb>data table notebook</a>'\n",
              "            + ' to learn more about interactive tables.';\n",
              "          element.innerHTML = '';\n",
              "          dataTable['output_type'] = 'display_data';\n",
              "          await google.colab.output.renderOutput(dataTable, element);\n",
              "          const docLink = document.createElement('div');\n",
              "          docLink.innerHTML = docLinkHtml;\n",
              "          element.appendChild(docLink);\n",
              "        }\n",
              "      </script>\n",
              "    </div>\n",
              "  </div>\n",
              "  "
            ]
          },
          "metadata": {},
          "execution_count": 147
        }
      ]
    },
    {
      "cell_type": "code",
      "source": [
        "credit_df = merged_df[merged_df['Surplus'] > 0]\n",
        "credit_df['Credit'] = 0.02 * credit_df['Surplus']\n",
        "credit_df['Next Month Billing'] = credit_df['Amount_y'] - credit_df['Credit']"
      ],
      "metadata": {
        "colab": {
          "base_uri": "https://localhost:8080/"
        },
        "id": "uoH3AsEhUWnm",
        "outputId": "1d2501cd-e753-4285-9f93-7e7765b12dfd"
      },
      "execution_count": 148,
      "outputs": [
        {
          "output_type": "stream",
          "name": "stderr",
          "text": [
            "<ipython-input-148-e470bf8c4d0b>:2: SettingWithCopyWarning: \n",
            "A value is trying to be set on a copy of a slice from a DataFrame.\n",
            "Try using .loc[row_indexer,col_indexer] = value instead\n",
            "\n",
            "See the caveats in the documentation: https://pandas.pydata.org/pandas-docs/stable/user_guide/indexing.html#returning-a-view-versus-a-copy\n",
            "  credit_df['Credit'] = 0.02 * credit_df['Surplus']\n",
            "<ipython-input-148-e470bf8c4d0b>:3: SettingWithCopyWarning: \n",
            "A value is trying to be set on a copy of a slice from a DataFrame.\n",
            "Try using .loc[row_indexer,col_indexer] = value instead\n",
            "\n",
            "See the caveats in the documentation: https://pandas.pydata.org/pandas-docs/stable/user_guide/indexing.html#returning-a-view-versus-a-copy\n",
            "  credit_df['Next Month Billing'] = credit_df['Amount_y'] - credit_df['Credit']\n"
          ]
        }
      ]
    },
    {
      "cell_type": "code",
      "source": [
        "credit_df.head()"
      ],
      "metadata": {
        "colab": {
          "base_uri": "https://localhost:8080/",
          "height": 206
        },
        "id": "WUIVzCL7Uly1",
        "outputId": "22592896-e325-480e-9af9-2d4404337bfd"
      },
      "execution_count": 149,
      "outputs": [
        {
          "output_type": "execute_result",
          "data": {
            "text/plain": [
              "    SL No: Customer      Month     Amount_x  Sl No:          Type  Amount_y  \\\n",
              "1        1       A1  12-Jan-04  331844.0074     103  TRAIN TICKET     52225   \n",
              "3      103       A1  12-Jan-04  390074.7900     103  TRAIN TICKET     52225   \n",
              "4        2       A1  03-Jan-04  441139.8073       2         PETRO    335579   \n",
              "11       6       A1  23-Feb-05  357678.5077     229       CLOTHES    275671   \n",
              "13     201       A1  23-Feb-05  315077.2866     229       CLOTHES    275671   \n",
              "\n",
              "        Surplus       Credit  Next Month Billing  \n",
              "1   279619.0074  5592.380148        46632.619852  \n",
              "3   337849.7900  6756.995800        45468.004200  \n",
              "4   105560.8073  2111.216146       333467.783854  \n",
              "11   82007.5077  1640.150154       274030.849846  \n",
              "13   39406.2866   788.125732       274882.874268  "
            ],
            "text/html": [
              "\n",
              "  <div id=\"df-bfab4a8d-40ca-4007-8be8-b7550bfc1df7\">\n",
              "    <div class=\"colab-df-container\">\n",
              "      <div>\n",
              "<style scoped>\n",
              "    .dataframe tbody tr th:only-of-type {\n",
              "        vertical-align: middle;\n",
              "    }\n",
              "\n",
              "    .dataframe tbody tr th {\n",
              "        vertical-align: top;\n",
              "    }\n",
              "\n",
              "    .dataframe thead th {\n",
              "        text-align: right;\n",
              "    }\n",
              "</style>\n",
              "<table border=\"1\" class=\"dataframe\">\n",
              "  <thead>\n",
              "    <tr style=\"text-align: right;\">\n",
              "      <th></th>\n",
              "      <th>SL No:</th>\n",
              "      <th>Customer</th>\n",
              "      <th>Month</th>\n",
              "      <th>Amount_x</th>\n",
              "      <th>Sl No:</th>\n",
              "      <th>Type</th>\n",
              "      <th>Amount_y</th>\n",
              "      <th>Surplus</th>\n",
              "      <th>Credit</th>\n",
              "      <th>Next Month Billing</th>\n",
              "    </tr>\n",
              "  </thead>\n",
              "  <tbody>\n",
              "    <tr>\n",
              "      <th>1</th>\n",
              "      <td>1</td>\n",
              "      <td>A1</td>\n",
              "      <td>12-Jan-04</td>\n",
              "      <td>331844.0074</td>\n",
              "      <td>103</td>\n",
              "      <td>TRAIN TICKET</td>\n",
              "      <td>52225</td>\n",
              "      <td>279619.0074</td>\n",
              "      <td>5592.380148</td>\n",
              "      <td>46632.619852</td>\n",
              "    </tr>\n",
              "    <tr>\n",
              "      <th>3</th>\n",
              "      <td>103</td>\n",
              "      <td>A1</td>\n",
              "      <td>12-Jan-04</td>\n",
              "      <td>390074.7900</td>\n",
              "      <td>103</td>\n",
              "      <td>TRAIN TICKET</td>\n",
              "      <td>52225</td>\n",
              "      <td>337849.7900</td>\n",
              "      <td>6756.995800</td>\n",
              "      <td>45468.004200</td>\n",
              "    </tr>\n",
              "    <tr>\n",
              "      <th>4</th>\n",
              "      <td>2</td>\n",
              "      <td>A1</td>\n",
              "      <td>03-Jan-04</td>\n",
              "      <td>441139.8073</td>\n",
              "      <td>2</td>\n",
              "      <td>PETRO</td>\n",
              "      <td>335579</td>\n",
              "      <td>105560.8073</td>\n",
              "      <td>2111.216146</td>\n",
              "      <td>333467.783854</td>\n",
              "    </tr>\n",
              "    <tr>\n",
              "      <th>11</th>\n",
              "      <td>6</td>\n",
              "      <td>A1</td>\n",
              "      <td>23-Feb-05</td>\n",
              "      <td>357678.5077</td>\n",
              "      <td>229</td>\n",
              "      <td>CLOTHES</td>\n",
              "      <td>275671</td>\n",
              "      <td>82007.5077</td>\n",
              "      <td>1640.150154</td>\n",
              "      <td>274030.849846</td>\n",
              "    </tr>\n",
              "    <tr>\n",
              "      <th>13</th>\n",
              "      <td>201</td>\n",
              "      <td>A1</td>\n",
              "      <td>23-Feb-05</td>\n",
              "      <td>315077.2866</td>\n",
              "      <td>229</td>\n",
              "      <td>CLOTHES</td>\n",
              "      <td>275671</td>\n",
              "      <td>39406.2866</td>\n",
              "      <td>788.125732</td>\n",
              "      <td>274882.874268</td>\n",
              "    </tr>\n",
              "  </tbody>\n",
              "</table>\n",
              "</div>\n",
              "      <button class=\"colab-df-convert\" onclick=\"convertToInteractive('df-bfab4a8d-40ca-4007-8be8-b7550bfc1df7')\"\n",
              "              title=\"Convert this dataframe to an interactive table.\"\n",
              "              style=\"display:none;\">\n",
              "        \n",
              "  <svg xmlns=\"http://www.w3.org/2000/svg\" height=\"24px\"viewBox=\"0 0 24 24\"\n",
              "       width=\"24px\">\n",
              "    <path d=\"M0 0h24v24H0V0z\" fill=\"none\"/>\n",
              "    <path d=\"M18.56 5.44l.94 2.06.94-2.06 2.06-.94-2.06-.94-.94-2.06-.94 2.06-2.06.94zm-11 1L8.5 8.5l.94-2.06 2.06-.94-2.06-.94L8.5 2.5l-.94 2.06-2.06.94zm10 10l.94 2.06.94-2.06 2.06-.94-2.06-.94-.94-2.06-.94 2.06-2.06.94z\"/><path d=\"M17.41 7.96l-1.37-1.37c-.4-.4-.92-.59-1.43-.59-.52 0-1.04.2-1.43.59L10.3 9.45l-7.72 7.72c-.78.78-.78 2.05 0 2.83L4 21.41c.39.39.9.59 1.41.59.51 0 1.02-.2 1.41-.59l7.78-7.78 2.81-2.81c.8-.78.8-2.07 0-2.86zM5.41 20L4 18.59l7.72-7.72 1.47 1.35L5.41 20z\"/>\n",
              "  </svg>\n",
              "      </button>\n",
              "      \n",
              "  <style>\n",
              "    .colab-df-container {\n",
              "      display:flex;\n",
              "      flex-wrap:wrap;\n",
              "      gap: 12px;\n",
              "    }\n",
              "\n",
              "    .colab-df-convert {\n",
              "      background-color: #E8F0FE;\n",
              "      border: none;\n",
              "      border-radius: 50%;\n",
              "      cursor: pointer;\n",
              "      display: none;\n",
              "      fill: #1967D2;\n",
              "      height: 32px;\n",
              "      padding: 0 0 0 0;\n",
              "      width: 32px;\n",
              "    }\n",
              "\n",
              "    .colab-df-convert:hover {\n",
              "      background-color: #E2EBFA;\n",
              "      box-shadow: 0px 1px 2px rgba(60, 64, 67, 0.3), 0px 1px 3px 1px rgba(60, 64, 67, 0.15);\n",
              "      fill: #174EA6;\n",
              "    }\n",
              "\n",
              "    [theme=dark] .colab-df-convert {\n",
              "      background-color: #3B4455;\n",
              "      fill: #D2E3FC;\n",
              "    }\n",
              "\n",
              "    [theme=dark] .colab-df-convert:hover {\n",
              "      background-color: #434B5C;\n",
              "      box-shadow: 0px 1px 3px 1px rgba(0, 0, 0, 0.15);\n",
              "      filter: drop-shadow(0px 1px 2px rgba(0, 0, 0, 0.3));\n",
              "      fill: #FFFFFF;\n",
              "    }\n",
              "  </style>\n",
              "\n",
              "      <script>\n",
              "        const buttonEl =\n",
              "          document.querySelector('#df-bfab4a8d-40ca-4007-8be8-b7550bfc1df7 button.colab-df-convert');\n",
              "        buttonEl.style.display =\n",
              "          google.colab.kernel.accessAllowed ? 'block' : 'none';\n",
              "\n",
              "        async function convertToInteractive(key) {\n",
              "          const element = document.querySelector('#df-bfab4a8d-40ca-4007-8be8-b7550bfc1df7');\n",
              "          const dataTable =\n",
              "            await google.colab.kernel.invokeFunction('convertToInteractive',\n",
              "                                                     [key], {});\n",
              "          if (!dataTable) return;\n",
              "\n",
              "          const docLinkHtml = 'Like what you see? Visit the ' +\n",
              "            '<a target=\"_blank\" href=https://colab.research.google.com/notebooks/data_table.ipynb>data table notebook</a>'\n",
              "            + ' to learn more about interactive tables.';\n",
              "          element.innerHTML = '';\n",
              "          dataTable['output_type'] = 'display_data';\n",
              "          await google.colab.output.renderOutput(dataTable, element);\n",
              "          const docLink = document.createElement('div');\n",
              "          docLink.innerHTML = docLinkHtml;\n",
              "          element.appendChild(docLink);\n",
              "        }\n",
              "      </script>\n",
              "    </div>\n",
              "  </div>\n",
              "  "
            ]
          },
          "metadata": {},
          "execution_count": 149
        }
      ]
    },
    {
      "cell_type": "markdown",
      "source": [
        "**Tasks:**"
      ],
      "metadata": {
        "id": "yEeJwyJ4VezC"
      }
    },
    {
      "cell_type": "code",
      "source": [
        "#To calculate the monthly spend of each customer.\n",
        "monthly_spend = df_3.groupby(['Customer', 'Month'])['Amount_y'].sum()\n",
        "print(monthly_spend)"
      ],
      "metadata": {
        "colab": {
          "base_uri": "https://localhost:8080/"
        },
        "id": "Uy-xEihMVbC1",
        "outputId": "783cb8e6-670a-4f56-ab57-b184c9fc8570"
      },
      "execution_count": 150,
      "outputs": [
        {
          "output_type": "stream",
          "name": "stdout",
          "text": [
            "Customer  Month    \n",
            "A1        01-Feb-05    219342\n",
            "          02-Apr-06    297988\n",
            "          03-Aug-05    129388\n",
            "          03-Feb-05    480096\n",
            "          03-Jan-04    335579\n",
            "                        ...  \n",
            "A95       15-Jan-04    347834\n",
            "A96       25-Jan-04    320364\n",
            "A97       12-Jan-04    164330\n",
            "A98       03-Jan-04     87484\n",
            "A99       15-Jan-04    476020\n",
            "Name: Amount_y, Length: 1257, dtype: int64\n"
          ]
        }
      ]
    },
    {
      "cell_type": "code",
      "source": [
        "#To calculate the monthly repayment of each customer.\n",
        "monthly_repayment = df_2.groupby(['Customer', 'Month'])['Amount_x'].sum()\n",
        "print(monthly_repayment)"
      ],
      "metadata": {
        "colab": {
          "base_uri": "https://localhost:8080/"
        },
        "id": "J73MUGryW4gK",
        "outputId": "b91fc813-a23e-4267-f9a8-e0993c309d00"
      },
      "execution_count": 151,
      "outputs": [
        {
          "output_type": "stream",
          "name": "stdout",
          "text": [
            "Customer  Month    \n",
            "A1        01-Apr-06    169892.26350\n",
            "          01-Feb-05    280990.70990\n",
            "          03-Jan-04    441139.80730\n",
            "          03-Jul-05    300581.70310\n",
            "          03-Sep-06    108320.12050\n",
            "                           ...     \n",
            "A95       15-Jan-04     75109.49223\n",
            "A96       25-Jan-04    110139.01410\n",
            "A97       12-Jan-04    174606.39230\n",
            "A98       03-Jan-04     97802.59900\n",
            "A99       15-Jan-04    358589.92430\n",
            "Name: Amount_x, Length: 1281, dtype: float64\n"
          ]
        }
      ]
    },
    {
      "cell_type": "code",
      "source": [
        "#To calculate the 10 highest paying customers.\n",
        "sorted_df = df_2.sort_values(by='Amount_x', ascending=False)\n",
        "top_customers = sorted_df.head(10)\n",
        "\n",
        "print(\"Top 10 highest paying customers:\")\n",
        "print(top_customers)"
      ],
      "metadata": {
        "colab": {
          "base_uri": "https://localhost:8080/"
        },
        "id": "GEPjtT2bYd4A",
        "outputId": "4146a7cd-ed9d-43d3-c22c-13af7f955192"
      },
      "execution_count": 152,
      "outputs": [
        {
          "output_type": "stream",
          "name": "stdout",
          "text": [
            "Top 10 highest paying customers:\n",
            "      SL No: Customer      Month     Amount_x\n",
            "714      715      A37  25-Mar-06  499344.9402\n",
            "1448    1449      A61  01-Apr-06  499136.7720\n",
            "435      436      A26  03-Feb-05  498972.6750\n",
            "80        81      A79  31-Mar-06  497836.7173\n",
            "728      729      A22  08-May-06  497163.5294\n",
            "107      108       A6  03-Jan-04  497144.9776\n",
            "581      582      A20  12-Jan-04  496732.7302\n",
            "1132    1133      A62  01-Feb-05  496662.7675\n",
            "722      723      A45  19-Apr-06  496519.6605\n",
            "511      512      A26  23-Nov-04  496338.3096\n"
          ]
        }
      ]
    },
    {
      "cell_type": "code",
      "source": [
        "#To determine which segment of customers is spending more money.\n",
        "merged_2 = pd.merge(df_1, df_3, on='Customer')\n",
        "\n",
        "segment_spend = merged_2.groupby('Segment')['Amount_y'].sum()\n",
        "sorted_segments = segment_spend.sort_values(ascending=False)\n",
        "print(\"Segments in decreasing order of spend:\")\n",
        "print(sorted_segments)"
      ],
      "metadata": {
        "colab": {
          "base_uri": "https://localhost:8080/"
        },
        "id": "L71iF6D9cvho",
        "outputId": "75d8932b-14e0-491f-a029-c18a2d405b05"
      },
      "execution_count": 153,
      "outputs": [
        {
          "output_type": "stream",
          "name": "stdout",
          "text": [
            "Segments in decreasing order of spend:\n",
            "Segment\n",
            "Normal Salary    107707139\n",
            "Salaried_Pvt      71704312\n",
            "Self Employed     70975481\n",
            "Govt              67325627\n",
            "Salaried_MNC      63639486\n",
            "Name: Amount_y, dtype: int64\n"
          ]
        }
      ]
    },
    {
      "cell_type": "code",
      "source": [
        "#To determine which age group is spending more money.\n",
        "age_spend = merged_2.groupby('Age')['Amount_y'].sum()\n",
        "sorted_age = age_spend.sort_values(ascending=False)\n",
        "print(\"Age groups in decreasing order of spend:\")\n",
        "print(sorted_age)"
      ],
      "metadata": {
        "colab": {
          "base_uri": "https://localhost:8080/"
        },
        "id": "TpBxkioAfBHN",
        "outputId": "eb3ab062-8b49-481c-ef29-8f6022fe6fed"
      },
      "execution_count": 154,
      "outputs": [
        {
          "output_type": "stream",
          "name": "stdout",
          "text": [
            "Age groups in decreasing order of spend:\n",
            "Age\n",
            "36.9228    9637821\n",
            "52.3088    9595037\n",
            "74.0014    9317672\n",
            "44.2279    9148466\n",
            "78.1426    9056652\n",
            "            ...   \n",
            "40.5390      87484\n",
            "62.9017      83931\n",
            "68.4110      65278\n",
            "57.0711      56942\n",
            "23.6076      42254\n",
            "Name: Amount_y, Length: 78, dtype: int64\n"
          ]
        }
      ]
    },
    {
      "cell_type": "code",
      "source": [
        "#To determine the most profitable segment.\n",
        "merged_3 = pd.merge(df_1, df_2, on='Customer')\n",
        "segment_repayment = merged_3.groupby('Segment')['Amount_x'].sum()\n",
        "segment_profit = segment_spend - segment_repayment\n",
        "\n",
        "most_profitable_segment = segment_profit.idxmax()\n",
        "print(\"Most profitable segment:\", most_profitable_segment)"
      ],
      "metadata": {
        "colab": {
          "base_uri": "https://localhost:8080/"
        },
        "id": "4lz2Bgatfzmr",
        "outputId": "37f1ec5a-4f8c-438f-dd89-ff5374b32846"
      },
      "execution_count": 155,
      "outputs": [
        {
          "output_type": "stream",
          "name": "stdout",
          "text": [
            "Most profitable segment: Salaried_Pvt\n"
          ]
        }
      ]
    },
    {
      "cell_type": "code",
      "source": [
        "#To determine in which category the customers are spending more money.\n",
        "category_spend = df_3.groupby('Type')['Amount_y'].sum()\n",
        "highest_spend_category = category_spend.idxmax()\n",
        "print(\"Category with the highest spend:\", highest_spend_category)"
      ],
      "metadata": {
        "colab": {
          "base_uri": "https://localhost:8080/"
        },
        "id": "GyIp_qBNhSiK",
        "outputId": "1b212a4b-c5ca-4897-94bd-8994d1fed513"
      },
      "execution_count": 156,
      "outputs": [
        {
          "output_type": "stream",
          "name": "stdout",
          "text": [
            "Category with the highest spend: PETRO\n"
          ]
        }
      ]
    },
    {
      "cell_type": "code",
      "source": [
        "#To calculate the monthly profit for the bank.\n",
        "monthly_profit = monthly_repayment - monthly_spend\n",
        "\n",
        "print(\"Monthly profit for the bank:\")\n",
        "print(monthly_profit)"
      ],
      "metadata": {
        "colab": {
          "base_uri": "https://localhost:8080/"
        },
        "id": "m8IXQFCVmucP",
        "outputId": "1fb15e6d-34df-4aed-9cd7-726457600e77"
      },
      "execution_count": 157,
      "outputs": [
        {
          "output_type": "stream",
          "name": "stdout",
          "text": [
            "Monthly profit for the bank:\n",
            "Customer  Month    \n",
            "A1        01-Apr-06             NaN\n",
            "          01-Feb-05     61648.70990\n",
            "          02-Apr-06             NaN\n",
            "          03-Aug-05             NaN\n",
            "          03-Feb-05             NaN\n",
            "                           ...     \n",
            "A95       15-Jan-04   -272724.50777\n",
            "A96       25-Jan-04   -210224.98590\n",
            "A97       12-Jan-04     10276.39230\n",
            "A98       03-Jan-04     10318.59900\n",
            "A99       15-Jan-04   -117430.07570\n",
            "Length: 2045, dtype: float64\n"
          ]
        }
      ]
    },
    {
      "cell_type": "code",
      "source": [
        "#To impose an interest rate of 2.9% on the due amount for each customer.\n",
        "df_2['Due Amount w/ Interest'] =  df_2['Amount_x'] + (df_2['Amount_x'] * 1.029)\n",
        "print(df_2)\n"
      ],
      "metadata": {
        "colab": {
          "base_uri": "https://localhost:8080/"
        },
        "id": "YdtBqHFVpTnB",
        "outputId": "2258e503-81f0-4b09-acfa-e6ab7544102b"
      },
      "execution_count": 158,
      "outputs": [
        {
          "output_type": "stream",
          "name": "stdout",
          "text": [
            "      SL No: Customer      Month       Amount_x  Due Amount w/ Interest\n",
            "0          1       A1  12-Jan-04  331844.007400           673311.491015\n",
            "1          2       A1  03-Jan-04  441139.807300           895072.669012\n",
            "2          3       A1  15-Jan-04   32480.004010            65901.928136\n",
            "3          4       A1  25-Jan-04   90636.966530           183902.405089\n",
            "4          5       A1  17-Jan-05    1581.969829             3209.816783\n",
            "...      ...      ...        ...            ...                     ...\n",
            "1495    1496      A67  09-May-05  200288.874100           406386.125549\n",
            "1496    1497      A68  10-May-06  231194.702300           469094.050967\n",
            "1497    1498      A69  11-Jul-06  391195.615800           793735.904458\n",
            "1498    1499      A70  12-Aug-05  357629.618200           725630.495328\n",
            "1499    1500      A71  13-Sep-04  179771.745200           364756.871011\n",
            "\n",
            "[1500 rows x 5 columns]\n"
          ]
        }
      ]
    }
  ]
}